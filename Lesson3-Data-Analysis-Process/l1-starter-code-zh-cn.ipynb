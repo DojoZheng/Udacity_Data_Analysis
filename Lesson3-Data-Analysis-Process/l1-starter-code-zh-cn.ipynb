{
 "cells": [
  {
   "cell_type": "markdown",
   "metadata": {},
   "source": [
    "在开始之前，使用 iPython 笔记本时有几点需要注意一下：\n",
    "\n",
    "- 如果代码单元格被运行之后，在单元格的左侧方框中会有数字出现。\n",
    "- 当你启动一个新的笔记本会话时，请确保运行所有单元格（从第1个到你上次离开的单元格）。即使笔记本中依然可以看到上次运行所得到的输出，你重新运行的笔记本内核却处于一个完全新的状态，所以你需要重载数据和运行代码。\n",
    "- 上一条注意事项特别重要。当你的答案和课程中的练习不一致时，请试着重载数据并一个一个运行代码单元格，以确保你所操作的变量和数据和练习中的一致。\n",
    "\n",
    "\n",
    "## 从 CSV 加载数据"
   ]
  },
  {
   "cell_type": "code",
   "execution_count": 147,
   "metadata": {},
   "outputs": [],
   "source": [
    "import unicodecsv\n",
    "\n",
    "## 长代码版本 (该版本与短代码版本功能一致)\n",
    "\n",
    "# enrollments = []\n",
    "# f = open('enrollments.csv', 'rb')\n",
    "# reader = unicodecsv.DictReader(f)\n",
    "# for row in reader:\n",
    "#     enrollments.append(row)\n",
    "# f.close()\n",
    "\n",
    "with open('enrollments.csv', 'rb') as f:\n",
    "    reader = unicodecsv.DictReader(f)\n",
    "    enrollments = list(reader)"
   ]
  },
  {
   "cell_type": "code",
   "execution_count": 148,
   "metadata": {},
   "outputs": [
    {
     "name": "stdout",
     "output_type": "stream",
     "text": [
      "{u'status': u'canceled', u'is_udacity': u'True', u'is_canceled': u'True', u'join_date': u'2014-11-10', u'account_key': u'448', u'cancel_date': u'2015-01-14', u'days_to_cancel': u'65'}\n",
      "{u'lessons_completed': u'0.0', u'num_courses_visited': u'1.0', u'total_minutes_visited': u'11.6793745', u'projects_completed': u'0.0', u'acct': u'0', u'utc_date': u'2015-01-09'}\n",
      "{u'lesson_key': u'3176718735', u'processing_state': u'EVALUATED', u'account_key': u'256', u'assigned_rating': u'UNGRADED', u'completion_date': u'2015-01-16', u'creation_date': u'2015-01-14'}\n"
     ]
    }
   ],
   "source": [
    "#####################################\n",
    "#                 1                 #\n",
    "#####################################\n",
    "def read_csv(filename):\n",
    "    with open(filename, 'rb') as f:\n",
    "        reader = unicodecsv.DictReader(f)\n",
    "        return list(reader)\n",
    "    \n",
    "## 从 daily_engagement.csv 和 project_submissions.csv 载入数据并存\n",
    "## 储至下面的变量中，然后检查每张表的第1行。\n",
    "\n",
    "enrollments = read_csv('enrollments.csv')\n",
    "daily_engagement = read_csv('daily_engagement.csv')\n",
    "project_submissions = read_csv('project_submissions.csv')\n",
    "\n",
    "print enrollments[0]\n",
    "print daily_engagement[0]\n",
    "print project_submissions[0]\n"
   ]
  },
  {
   "cell_type": "markdown",
   "metadata": {},
   "source": [
    "## 7. 修正数据类型"
   ]
  },
  {
   "cell_type": "code",
   "execution_count": 149,
   "metadata": {},
   "outputs": [
    {
     "data": {
      "text/plain": [
       "{u'account_key': u'448',\n",
       " u'cancel_date': datetime.datetime(2015, 1, 14, 0, 0),\n",
       " u'days_to_cancel': 65,\n",
       " u'is_canceled': True,\n",
       " u'is_udacity': True,\n",
       " u'join_date': datetime.datetime(2014, 11, 10, 0, 0),\n",
       " u'status': u'canceled'}"
      ]
     },
     "execution_count": 149,
     "metadata": {},
     "output_type": "execute_result"
    }
   ],
   "source": [
    "from datetime import datetime as dt\n",
    "\n",
    "# 将字符串格式的时间转为 Python datetime 类型的时间。\n",
    "# 如果没有时间字符串传入，返回 None\n",
    "def parse_date(date):\n",
    "    if date == '':\n",
    "        return None\n",
    "    else:\n",
    "        return dt.strptime(date, '%Y-%m-%d')\n",
    "    \n",
    "# 将可能是空字符串或字符串类型的数据转为 整型 或 None。\n",
    "def parse_maybe_int(i):\n",
    "    if i == '':\n",
    "        return None\n",
    "    else:\n",
    "        return int(i)\n",
    "\n",
    "# 清理 enrollments 表格中的数据类型\n",
    "\n",
    "for enrollment in enrollments:\n",
    "    enrollment['cancel_date'] = parse_date(enrollment['cancel_date'])\n",
    "    enrollment['days_to_cancel'] = parse_maybe_int(enrollment['days_to_cancel'])\n",
    "    enrollment['is_canceled'] = enrollment['is_canceled'] == 'True'\n",
    "    enrollment['is_udacity'] = enrollment['is_udacity'] == 'True'\n",
    "    enrollment['join_date'] = parse_date(enrollment['join_date'])\n",
    "    \n",
    "enrollments[0]"
   ]
  },
  {
   "cell_type": "code",
   "execution_count": 150,
   "metadata": {},
   "outputs": [
    {
     "data": {
      "text/plain": [
       "{u'acct': u'0',\n",
       " u'lessons_completed': 0,\n",
       " u'num_courses_visited': 1,\n",
       " u'projects_completed': 0,\n",
       " u'total_minutes_visited': 11.6793745,\n",
       " u'utc_date': datetime.datetime(2015, 1, 9, 0, 0)}"
      ]
     },
     "execution_count": 150,
     "metadata": {},
     "output_type": "execute_result"
    }
   ],
   "source": [
    "# 清理 engagement 的数据类型\n",
    "for engagement_record in daily_engagement:\n",
    "    engagement_record['lessons_completed'] = int(float(engagement_record['lessons_completed']))\n",
    "    engagement_record['num_courses_visited'] = int(float(engagement_record['num_courses_visited']))\n",
    "    engagement_record['projects_completed'] = int(float(engagement_record['projects_completed']))\n",
    "    engagement_record['total_minutes_visited'] = float(engagement_record['total_minutes_visited'])\n",
    "    engagement_record['utc_date'] = parse_date(engagement_record['utc_date'])\n",
    "    \n",
    "daily_engagement[0]"
   ]
  },
  {
   "cell_type": "code",
   "execution_count": 151,
   "metadata": {},
   "outputs": [
    {
     "data": {
      "text/plain": [
       "{u'account_key': u'256',\n",
       " u'assigned_rating': u'UNGRADED',\n",
       " u'completion_date': datetime.datetime(2015, 1, 16, 0, 0),\n",
       " u'creation_date': datetime.datetime(2015, 1, 14, 0, 0),\n",
       " u'lesson_key': u'3176718735',\n",
       " u'processing_state': u'EVALUATED'}"
      ]
     },
     "execution_count": 151,
     "metadata": {},
     "output_type": "execute_result"
    }
   ],
   "source": [
    "# 清理 submissions 的数据类型\n",
    "for submission in project_submissions:\n",
    "    submission['completion_date'] = parse_date(submission['completion_date'])\n",
    "    submission['creation_date'] = parse_date(submission['creation_date'])\n",
    "\n",
    "project_submissions[0]"
   ]
  },
  {
   "cell_type": "markdown",
   "metadata": {},
   "source": [
    "注意：当我们在运行上方的单元格时，我们已经改变了数据变量中的内容。如果你试着在同一个会话多次运行这些单元格时，可能会出错。\n",
    "\n",
    "## 9. 调查（探索）数据"
   ]
  },
  {
   "cell_type": "code",
   "execution_count": 152,
   "metadata": {},
   "outputs": [
    {
     "name": "stdout",
     "output_type": "stream",
     "text": [
      "Enrollment(total):1640 \t Enrollment(unique):1302\n",
      "Engagement(total):136240 \t Engagement(unique):1237\n",
      "Submission(total):3642 \t Submission(unique):743\n"
     ]
    }
   ],
   "source": [
    "#####################################\n",
    "#                 2                 #\n",
    "#####################################\n",
    "\n",
    "## 计算每张表中的总行数，和独立学生（拥有独立的 account keys）的数量\n",
    "### For each of these three tables, find the number of rows in the table and\n",
    "### the number of unique students in the table. To find the number of unique\n",
    "### students, you might want to create a set of the account keys in each table.\n",
    "\n",
    "# enrollment\n",
    "enrollment_num_rows = len(enrollments)\n",
    "enrollment_num_unique_students = 0  \n",
    "\n",
    "unique_enrolled_students = set()\n",
    "for enrollment in enrollments:\n",
    "    unique_enrolled_students.add(enrollment['account_key'])\n",
    "enrollment_num_unique_students = len(unique_enrolled_students)\n",
    "\n",
    "# engagement\n",
    "engagement_num_rows = len(daily_engagement)\n",
    "engagement_num_unique_students = 0 \n",
    "\n",
    "unique_engagement_students = set()\n",
    "for engagement_record in daily_engagement:\n",
    "    unique_engagement_students.add(engagement_record['acct'])\n",
    "engagement_num_unique_students = len(unique_engagement_students)\n",
    "\n",
    "# submission\n",
    "submission_num_rows = len(project_submissions)\n",
    "submission_num_unique_students = 0  # Replace this with your code\n",
    "\n",
    "unique_project_submitters = set()\n",
    "for submission in project_submissions:\n",
    "    unique_project_submitters.add(submission['account_key'])\n",
    "submission_num_unique_students = len(unique_project_submitters)\n",
    "\n",
    "# output\n",
    "print \"Enrollment(total):{} \\t Enrollment(unique):{}\".format(enrollment_num_rows, enrollment_num_unique_students)\n",
    "print \"Engagement(total):{} \\t Engagement(unique):{}\".format(engagement_num_rows, engagement_num_unique_students)\n",
    "print \"Submission(total):{} \\t Submission(unique):{}\".format(submission_num_rows, submission_num_unique_students)\n"
   ]
  },
  {
   "cell_type": "markdown",
   "metadata": {},
   "source": [
    "## 10. 数据中的问题"
   ]
  },
  {
   "cell_type": "code",
   "execution_count": 153,
   "metadata": {},
   "outputs": [
    {
     "name": "stdout",
     "output_type": "stream",
     "text": [
      "Enrollment(total):1640 \t Enrollment(unique):1302\n",
      "Engagement(total):136240 \t Engagement(unique):1237\n",
      "Submission(total):3642 \t Submission(unique):743\n"
     ]
    }
   ],
   "source": [
    "#####################################\n",
    "#                 3                 #\n",
    "#####################################\n",
    "\n",
    "## 将 daily_engagement 表中的 \"acct\" 重命名为 ”account_key\"\n",
    "for engagement_record in daily_engagement:\n",
    "    engagement_record['account_key'] = engagement_record['acct']\n",
    "    del[engagement_record['acct']]\n",
    "\n",
    "## 接下来可以对方法进行封装\n",
    "def get_unique_students(data):\n",
    "    unique_students = set()\n",
    "    for data_point in data:\n",
    "        unique_students.add(data_point['account_key'])\n",
    "    return unique_students\n",
    "\n",
    "# enrollment\n",
    "enrollment_num_rows = len(enrollments)\n",
    "enrollment_unique_students = get_unique_students(enrollments)\n",
    "enrollment_num_unique_students = len(enrollment_unique_students)\n",
    "\n",
    "# engagement\n",
    "engagement_num_rows = len(daily_engagement)\n",
    "engagement_unique_students = get_unique_students(daily_engagement)\n",
    "engagement_num_unique_students = len(engagement_unique_students)\n",
    "\n",
    "# submission\n",
    "submission_num_rows = len(project_submissions)\n",
    "submission_unique_students = get_unique_students(project_submissions)\n",
    "submission_num_unique_students = len(submission_unique_students)\n",
    "\n",
    "# output\n",
    "print \"Enrollment(total):{} \\t Enrollment(unique):{}\".format(enrollment_num_rows, enrollment_num_unique_students)\n",
    "print \"Engagement(total):{} \\t Engagement(unique):{}\".format(engagement_num_rows, engagement_num_unique_students)\n",
    "print \"Submission(total):{} \\t Submission(unique):{}\".format(submission_num_rows, submission_num_unique_students)\n"
   ]
  },
  {
   "cell_type": "markdown",
   "metadata": {},
   "source": [
    "## 11. 缺失的互动（Engagement）记录"
   ]
  },
  {
   "cell_type": "code",
   "execution_count": 154,
   "metadata": {},
   "outputs": [
    {
     "name": "stdout",
     "output_type": "stream",
     "text": [
      "{u'status': u'canceled', u'is_udacity': False, u'is_canceled': True, u'join_date': datetime.datetime(2014, 11, 12, 0, 0), u'account_key': u'1219', u'cancel_date': datetime.datetime(2014, 11, 12, 0, 0), u'days_to_cancel': 0}\n"
     ]
    }
   ],
   "source": [
    "#####################################\n",
    "#                 4                 #\n",
    "#####################################\n",
    "\n",
    "## 找到任意一个 enrollments 中的学生，但不在 daily engagement 表中。\n",
    "## 打印出这条 enrollments 记录。\n",
    "for enrollment in enrollments:\n",
    "    student = enrollment['account_key']\n",
    "    if student not in engagement_unique_students:\n",
    "        print enrollment\n",
    "        break\n",
    "        \n",
    "# We can find that the join_date and the cancel_date are the same. \n",
    "# That's the reason why engagement_num_unique_students and enrollment_num_unique_students are not the same.\n"
   ]
  },
  {
   "cell_type": "markdown",
   "metadata": {},
   "source": [
    "## 12. 检查更多的问题记录"
   ]
  },
  {
   "cell_type": "code",
   "execution_count": 155,
   "metadata": {},
   "outputs": [
    {
     "name": "stdout",
     "output_type": "stream",
     "text": [
      "{u'status': u'canceled', u'is_udacity': True, u'is_canceled': True, u'join_date': datetime.datetime(2015, 1, 10, 0, 0), u'account_key': u'1304', u'cancel_date': datetime.datetime(2015, 3, 10, 0, 0), u'days_to_cancel': 59}\n",
      "{u'status': u'canceled', u'is_udacity': True, u'is_canceled': True, u'join_date': datetime.datetime(2015, 3, 10, 0, 0), u'account_key': u'1304', u'cancel_date': datetime.datetime(2015, 6, 17, 0, 0), u'days_to_cancel': 99}\n",
      "{u'status': u'current', u'is_udacity': True, u'is_canceled': False, u'join_date': datetime.datetime(2015, 2, 25, 0, 0), u'account_key': u'1101', u'cancel_date': None, u'days_to_cancel': None}\n"
     ]
    },
    {
     "data": {
      "text/plain": [
       "3"
      ]
     },
     "execution_count": 155,
     "metadata": {},
     "output_type": "execute_result"
    }
   ],
   "source": [
    "#####################################\n",
    "#                 5                 #\n",
    "#####################################\n",
    "\n",
    "## 计算无众不同的数据点条数（在 enrollments 中存在，但在 engagement 表中缺失）\n",
    "num_problem_students = 0\n",
    "for enrollment in enrollments:\n",
    "    student = enrollment['account_key']\n",
    "    if (student not in unique_engagement_students and \n",
    "            enrollment['join_date'] != enrollment['cancel_date']):\n",
    "        print enrollment\n",
    "        num_problem_students += 1\n",
    "\n",
    "num_problem_students\n",
    "\n",
    "# 这是因为is_udacity为True，表明是udacity的测试账号，这些测试账号并不一定会出现在engagement里面"
   ]
  },
  {
   "cell_type": "markdown",
   "metadata": {},
   "source": [
    "## 13. 追踪剩余的问题"
   ]
  },
  {
   "cell_type": "code",
   "execution_count": 156,
   "metadata": {},
   "outputs": [
    {
     "data": {
      "text/plain": [
       "6"
      ]
     },
     "execution_count": 156,
     "metadata": {},
     "output_type": "execute_result"
    }
   ],
   "source": [
    "# 为所有 Udacity 测试帐号建立一组 set \n",
    "udacity_test_accounts = set()\n",
    "for enrollment in enrollments:\n",
    "    if enrollment['is_udacity']:\n",
    "        udacity_test_accounts.add(enrollment['account_key'])\n",
    "len(udacity_test_accounts)"
   ]
  },
  {
   "cell_type": "code",
   "execution_count": 157,
   "metadata": {},
   "outputs": [],
   "source": [
    "# 通过 account_key 删除所有 Udacity 的测试帐号\n",
    "def remove_udacity_accounts(data):\n",
    "    non_udacity_data = []\n",
    "    for data_point in data:\n",
    "        if data_point['account_key'] not in udacity_test_accounts:\n",
    "            non_udacity_data.append(data_point)\n",
    "    return non_udacity_data"
   ]
  },
  {
   "cell_type": "code",
   "execution_count": 158,
   "metadata": {},
   "outputs": [
    {
     "name": "stdout",
     "output_type": "stream",
     "text": [
      "1622\n",
      "135656\n",
      "3634\n"
     ]
    }
   ],
   "source": [
    "# 从3张表中移除所有 Udacity 的测试帐号\n",
    "non_udacity_enrollments = remove_udacity_accounts(enrollments)\n",
    "non_udacity_engagement = remove_udacity_accounts(daily_engagement)\n",
    "non_udacity_submissions = remove_udacity_accounts(project_submissions)\n",
    "\n",
    "print len(non_udacity_enrollments)\n",
    "print len(non_udacity_engagement)\n",
    "print len(non_udacity_submissions)"
   ]
  },
  {
   "cell_type": "markdown",
   "metadata": {},
   "source": [
    "## 14. 提炼问题（重新定义问题）"
   ]
  },
  {
   "cell_type": "code",
   "execution_count": 159,
   "metadata": {},
   "outputs": [
    {
     "data": {
      "text/plain": [
       "995"
      ]
     },
     "execution_count": 159,
     "metadata": {},
     "output_type": "execute_result"
    }
   ],
   "source": [
    "#####################################\n",
    "#                 6                 #\n",
    "#####################################\n",
    "\n",
    "## 创建一个叫 paid_students 的字典，并在字典中存储所有还没有取消或者注册时间超过7天的学生。\n",
    "## 字典的键为帐号（account key），值为学生注册的时间。\n",
    "\n",
    "paid_students = {}\n",
    "\n",
    "for enrollment in non_udacity_enrollments:\n",
    "    if not enrollment['is_canceled'] or enrollment['days_to_cancel'] > 7:\n",
    "        account_key = enrollment['account_key']\n",
    "        enrollment_date = enrollment['join_date']\n",
    "        \n",
    "        if account_key not in paid_students or \\\n",
    "            enrollment_date > paid_students[account_key]:\n",
    "            paid_students[account_key] = enrollment_date\n",
    "        \n",
    "len(paid_students)\n"
   ]
  },
  {
   "cell_type": "markdown",
   "metadata": {},
   "source": [
    "## 15. 获取第1周的数据\n",
    "获取第1周的数据"
   ]
  },
  {
   "cell_type": "code",
   "execution_count": 160,
   "metadata": {},
   "outputs": [],
   "source": [
    "# 基于学生的加入日期和特定一天的互动记录，若该互动记录发生在学生加入1周内，则反回 True\n",
    "\n",
    "def within_one_week(join_date, engagement_date):\n",
    "    time_delta = engagement_date - join_date\n",
    "#     return time_delta.days < 7\n",
    "    # 经过 18.纠错现有的数据分析代码，改代码如下行：\n",
    "    return time_delta.days < 7 and time_delta.days >= 0\n",
    "\n",
    "def remove_free_trial_cancels(data):\n",
    "    new_data = []\n",
    "    for data_point in data:\n",
    "        if data_point['account_key'] in paid_students:\n",
    "            new_data.append(data_point)\n",
    "    return new_data"
   ]
  },
  {
   "cell_type": "code",
   "execution_count": 161,
   "metadata": {},
   "outputs": [
    {
     "name": "stdout",
     "output_type": "stream",
     "text": [
      "1293\n",
      "134549\n",
      "3618\n"
     ]
    },
    {
     "data": {
      "text/plain": [
       "6919"
      ]
     },
     "execution_count": 161,
     "metadata": {},
     "output_type": "execute_result"
    }
   ],
   "source": [
    "#####################################\n",
    "#                 7                 #\n",
    "#####################################\n",
    "\n",
    "## 创建一个 engagement 记录的列表，该列表只包括付费学生以及加入的前7天的学生的记录\n",
    "## 输入符合要求的行数\n",
    "\n",
    "paid_enrollments = remove_free_trial_cancels(non_udacity_enrollments)\n",
    "paid_engagement = remove_free_trial_cancels(non_udacity_engagement)\n",
    "paid_submissions = remove_free_trial_cancels(non_udacity_submissions)\n",
    "\n",
    "print len(paid_enrollments)\n",
    "print len(paid_engagement)\n",
    "print len(paid_submissions)\n",
    "\n",
    "paid_engagement_in_first_week = []\n",
    "for engagement_record in paid_engagement:\n",
    "    account_key = engagement_record['account_key']\n",
    "    join_date = paid_students[account_key]\n",
    "    engagement_record_date = engagement_record['utc_date']\n",
    "\n",
    "    if within_one_week(join_date, engagement_record_date):\n",
    "        paid_engagement_in_first_week.append(engagement_record)\n",
    "\n",
    "len(paid_engagement_in_first_week)"
   ]
  },
  {
   "cell_type": "markdown",
   "metadata": {},
   "source": [
    "## 17. Exploring Student Engagement - 探索学员的参与度"
   ]
  },
  {
   "cell_type": "code",
   "execution_count": 162,
   "metadata": {},
   "outputs": [
    {
     "name": "stdout",
     "output_type": "stream",
     "text": [
      "995\n",
      "6919\n"
     ]
    }
   ],
   "source": [
    "from collections import defaultdict\n",
    "\n",
    "# 创建基于 student 对 engagement 进行分组的字典，字典的键为帐号（account key），值为包含互动记录的列表\n",
    "\n",
    "engagement_by_account = defaultdict(list)\n",
    "for engagement_record in paid_engagement_in_first_week:\n",
    "    account_key = engagement_record['account_key']\n",
    "    engagement_by_account[account_key].append(engagement_record)\n",
    "    \n",
    "print len(engagement_by_account) \n",
    "print len(paid_engagement_in_first_week)\n",
    "\n",
    "# print engagement_by_account.items()[0]\n",
    "# print paid_engagement_in_first_week[0]\n",
    "\n"
   ]
  },
  {
   "cell_type": "code",
   "execution_count": 163,
   "metadata": {},
   "outputs": [],
   "source": [
    "# 创建一个包含学生在第1周在教室所花总时间和字典。键为帐号（account key），值为数字（所花总时间）\n",
    "total_minutes_by_account = {}\n",
    "for account_key, engagement_for_student in engagement_by_account.items():\n",
    "    total_minutes = 0\n",
    "    for engagement_record in engagement_for_student:\n",
    "        total_minutes += engagement_record['total_minutes_visited']\n",
    "    total_minutes_by_account[account_key] = total_minutes\n"
   ]
  },
  {
   "cell_type": "code",
   "execution_count": 164,
   "metadata": {
    "scrolled": true
   },
   "outputs": [
    {
     "name": "stdout",
     "output_type": "stream",
     "text": [
      "Mean: 306.708326753\n",
      "Standard deviation: 412.996933409\n",
      "Minimum: 0.0\n",
      "Maximum: 3564.7332645\n"
     ]
    }
   ],
   "source": [
    "import numpy as np\n",
    "\n",
    "# 汇总和描述关于教室所花时间的数据\n",
    "total_minutes = total_minutes_by_account.values()\n",
    "print 'Mean:', np.mean(total_minutes)\n",
    "print 'Standard deviation:', np.std(total_minutes)\n",
    "print 'Minimum:', np.min(total_minutes)\n",
    "print 'Maximum:', np.max(total_minutes)\n",
    "\n",
    "# 输出之后，看到 Maximum=10568.1008673， 然而一周的分钟数都没有这么多，所以肯定有错误\n",
    "# 经过纠正之后，会看到 Maximum: 3564.7332645 ， 这个是合理的"
   ]
  },
  {
   "cell_type": "markdown",
   "metadata": {},
   "source": [
    "## 18. 纠错现有的数据分析代码"
   ]
  },
  {
   "cell_type": "code",
   "execution_count": 165,
   "metadata": {},
   "outputs": [
    {
     "name": "stdout",
     "output_type": "stream",
     "text": [
      "{u'lessons_completed': 4, u'num_courses_visited': 4, u'total_minutes_visited': 850.519339666, u'projects_completed': 0, 'account_key': u'163', u'utc_date': datetime.datetime(2015, 7, 9, 0, 0)}\n",
      "{u'lessons_completed': 6, u'num_courses_visited': 6, u'total_minutes_visited': 872.633923334, u'projects_completed': 0, 'account_key': u'163', u'utc_date': datetime.datetime(2015, 7, 10, 0, 0)}\n",
      "{u'lessons_completed': 6, u'num_courses_visited': 2, u'total_minutes_visited': 777.018903666, u'projects_completed': 0, 'account_key': u'163', u'utc_date': datetime.datetime(2015, 7, 11, 0, 0)}\n",
      "{u'lessons_completed': 2, u'num_courses_visited': 1, u'total_minutes_visited': 294.568774, u'projects_completed': 0, 'account_key': u'163', u'utc_date': datetime.datetime(2015, 7, 12, 0, 0)}\n",
      "{u'lessons_completed': 1, u'num_courses_visited': 3, u'total_minutes_visited': 471.2139785, u'projects_completed': 0, 'account_key': u'163', u'utc_date': datetime.datetime(2015, 7, 13, 0, 0)}\n",
      "{u'lessons_completed': 1, u'num_courses_visited': 2, u'total_minutes_visited': 298.778345333, u'projects_completed': 0, 'account_key': u'163', u'utc_date': datetime.datetime(2015, 7, 14, 0, 0)}\n",
      "{u'lessons_completed': 0, u'num_courses_visited': 0, u'total_minutes_visited': 0.0, u'projects_completed': 0, 'account_key': u'163', u'utc_date': datetime.datetime(2015, 7, 15, 0, 0)}\n"
     ]
    }
   ],
   "source": [
    "#####################################\n",
    "#                 8                 #\n",
    "#####################################\n",
    "\n",
    "## 通过之前的方法检查是否有问题数据存在。\n",
    "## 定位至少一条异常数据，打印出来并检查。\n",
    "\n",
    "student_with_max_minutes = None\n",
    "max_minutes = 0\n",
    "\n",
    "for student, total_minutes in total_minutes_by_account.items():\n",
    "    if total_minutes > max_minutes:\n",
    "        max_minutes = total_minutes\n",
    "        student_with_max_minutes = student\n",
    "\n",
    "max_minutes\n",
    "\n",
    "for engagement_record in paid_engagement_in_first_week:\n",
    "    if engagement_record['account_key'] == student_with_max_minutes:\n",
    "        print engagement_record\n",
    "        \n",
    "# 输出之后，看到开始日期 (2015, 1, 7, 0, 0)\n",
    "# 结束日期 (2015, 4, 26, 0, 0)\n",
    "# 出现这种状况的原因是：例如学员Tom 1.1 号注册了，上课到1.5 号，然后注销了，在 1.6 号又注册了，这个时候1.1-1.5号之间的课程记录都在新的注册日期1.6号之前\n",
    "# 所以要在within_one_week函数中加上 time_delta.days >= 0"
   ]
  },
  {
   "cell_type": "markdown",
   "metadata": {},
   "source": [
    "## 19. 第1周完成的课程数（Lessons）"
   ]
  },
  {
   "cell_type": "code",
   "execution_count": 181,
   "metadata": {},
   "outputs": [
    {
     "name": "stdout",
     "output_type": "stream",
     "text": [
      "paid_engagement_in_first_week:\n",
      "{u'lessons_completed': 0, u'num_courses_visited': 1, 'has_visited': 1, u'total_minutes_visited': 11.6793745, u'projects_completed': 0, 'account_key': u'0', u'utc_date': datetime.datetime(2015, 1, 9, 0, 0)}\n",
      "\n",
      "\n",
      "engagement_by_account:\n",
      "(u'1200', [{u'lessons_completed': 1, u'num_courses_visited': 2, 'has_visited': 1, u'total_minutes_visited': 114.853432, u'projects_completed': 0, 'account_key': u'1200', u'utc_date': datetime.datetime(2015, 3, 4, 0, 0)}, {u'lessons_completed': 0, u'num_courses_visited': 1, 'has_visited': 1, u'total_minutes_visited': 43.4168625, u'projects_completed': 0, 'account_key': u'1200', u'utc_date': datetime.datetime(2015, 3, 5, 0, 0)}, {u'lessons_completed': 0, u'num_courses_visited': 1, 'has_visited': 1, u'total_minutes_visited': 187.776832833, u'projects_completed': 0, 'account_key': u'1200', u'utc_date': datetime.datetime(2015, 3, 6, 0, 0)}, {u'lessons_completed': 0, u'num_courses_visited': 1, 'has_visited': 1, u'total_minutes_visited': 150.081577333, u'projects_completed': 0, 'account_key': u'1200', u'utc_date': datetime.datetime(2015, 3, 7, 0, 0)}, {u'lessons_completed': 0, u'num_courses_visited': 1, 'has_visited': 1, u'total_minutes_visited': 191.61088, u'projects_completed': 0, 'account_key': u'1200', u'utc_date': datetime.datetime(2015, 3, 8, 0, 0)}, {u'lessons_completed': 0, u'num_courses_visited': 0, 'has_visited': 0, u'total_minutes_visited': 0.0, u'projects_completed': 0, 'account_key': u'1200', u'utc_date': datetime.datetime(2015, 3, 9, 0, 0)}, {u'lessons_completed': 0, u'num_courses_visited': 1, 'has_visited': 1, u'total_minutes_visited': 8.83762516667, u'projects_completed': 0, 'account_key': u'1200', u'utc_date': datetime.datetime(2015, 3, 10, 0, 0)}])\n",
      "\n",
      "\n",
      "total_minutes_by_account:\n",
      "(u'619', 1482.9020456663002)\n",
      "\n",
      "\n",
      "==== Describe: total_minutes_by_account ====\n",
      "Mean: 306.708326753\n",
      "Standard deviation: 412.996933409\n",
      "Minimum: 0.0\n",
      "Maximum: 3564.7332645\n",
      "\n",
      "\n",
      "==== Describe: lessons_completed ====\n",
      "Mean: 1.63618090452\n",
      "Standard deviation: 3.00256129983\n",
      "Minimum: 0\n",
      "Maximum: 36\n",
      "\n",
      "\n"
     ]
    }
   ],
   "source": [
    "#####################################\n",
    "#                 9                 #\n",
    "#####################################\n",
    "\n",
    "## 修改之前的代码，找出第1周学生完成课程数的 平均值、标准差、最小值、最大值。尝试创建一个或更多的函数来复用之前的代码\n",
    "\n",
    "from collections import defaultdict\n",
    "\n",
    "# 首先，将给定代码重构为以下代码，用以分析学员在第一周总共学习的分钟数：\n",
    "def group_data(data, key_name):\n",
    "    grouped_data = defaultdict(list)\n",
    "    for data_point in data:\n",
    "        key = data_point[key_name]\n",
    "        grouped_data[key].append(data_point)\n",
    "    return grouped_data\n",
    "\n",
    "engagement_by_account = group_data(paid_engagement_in_first_week,\n",
    "                                   'account_key')\n",
    "print \"paid_engagement_in_first_week:\" \n",
    "print paid_engagement_in_first_week[0]\n",
    "print '\\n'\n",
    "\n",
    "print \"engagement_by_account:\"\n",
    "print engagement_by_account.items()[0]\n",
    "print '\\n'\n",
    "\n",
    "def sum_grouped_items(grouped_data, field_name):\n",
    "    summed_data = {}\n",
    "    for key, data_points in grouped_data.items():\n",
    "        total = 0\n",
    "        for data_point in data_points:\n",
    "            total += data_point[field_name]\n",
    "        summed_data[key] = total\n",
    "    return summed_data\n",
    "\n",
    "total_minutes_by_account = sum_grouped_items(engagement_by_account,\n",
    "                                             'total_minutes_visited')\n",
    "print \"total_minutes_by_account:\"\n",
    "print total_minutes_by_account.items()[0]\n",
    "print '\\n'\n",
    "\n",
    "import numpy as np\n",
    "\n",
    "def describe_data(data):\n",
    "    print 'Mean:', np.mean(data)\n",
    "    print 'Standard deviation:', np.std(data)\n",
    "    print 'Minimum:', np.min(data)\n",
    "    print 'Maximum:', np.max(data)\n",
    "    print '\\n'\n",
    "\n",
    "print '==== Describe: total_minutes_by_account ===='\n",
    "describe_data(total_minutes_by_account.values())\n",
    "\n",
    "# 然后，调用自己创建的函数来分析第一周完成的课程，如下所示：\n",
    "lessons_completed_by_account = sum_grouped_items(engagement_by_account,\n",
    "                                                 'lessons_completed')\n",
    "print '==== Describe: lessons_completed ===='\n",
    "describe_data(lessons_completed_by_account.values())\n"
   ]
  },
  {
   "cell_type": "markdown",
   "metadata": {},
   "source": [
    "## 20. 第1周的访问次数"
   ]
  },
  {
   "cell_type": "code",
   "execution_count": 167,
   "metadata": {},
   "outputs": [
    {
     "name": "stdout",
     "output_type": "stream",
     "text": [
      "paid_engagement:\n",
      "{u'lessons_completed': 0, u'num_courses_visited': 1, u'total_minutes_visited': 11.6793745, u'projects_completed': 0, 'account_key': u'0', u'utc_date': datetime.datetime(2015, 1, 9, 0, 0)}\n",
      "\n",
      "\n",
      "Mean: 2.86733668342\n",
      "Standard deviation: 2.25519800292\n",
      "Minimum: 0\n",
      "Maximum: 7\n"
     ]
    }
   ],
   "source": [
    "######################################\n",
    "#                 10                 #\n",
    "######################################\n",
    "\n",
    "## 找出第1周学生访问教室天数的平均值、标准差、最小值、最大值。\n",
    "print 'paid_engagement:'\n",
    "print paid_engagement[0]\n",
    "print '\\n'\n",
    "\n",
    "for engagement_record in paid_engagement:\n",
    "    if engagement_record['num_courses_visited'] > 0:\n",
    "        engagement_record['has_visited'] = 1\n",
    "    else:\n",
    "        engagement_record['has_visited'] = 0\n",
    "        \n",
    "days_visited_by_account = sum_grouped_items(engagement_by_account,\n",
    "                                            'has_visited')\n",
    "describe_data(days_visited_by_account.values())"
   ]
  },
  {
   "cell_type": "markdown",
   "metadata": {},
   "source": [
    "## 21. 区分项目通过的学生"
   ]
  },
  {
   "cell_type": "code",
   "execution_count": 182,
   "metadata": {},
   "outputs": [
    {
     "name": "stdout",
     "output_type": "stream",
     "text": [
      "paid_submissions:\n",
      "{u'lesson_key': u'3176718735', u'processing_state': u'EVALUATED', u'account_key': u'256', u'assigned_rating': u'UNGRADED', u'completion_date': datetime.datetime(2015, 1, 16, 0, 0), u'creation_date': datetime.datetime(2015, 1, 14, 0, 0)}\n",
      "\n",
      "\n",
      "paid_engagement_in_first_week:\n",
      "{u'lessons_completed': 0, u'num_courses_visited': 1, 'has_visited': 1, u'total_minutes_visited': 11.6793745, u'projects_completed': 0, 'account_key': u'0', u'utc_date': datetime.datetime(2015, 1, 9, 0, 0)}\n",
      "\n",
      "\n",
      "Passing engagement:4527\n",
      "Non-Passing engagement:2392\n"
     ]
    }
   ],
   "source": [
    "######################################\n",
    "#                 11                 #\n",
    "######################################\n",
    "\n",
    "## 创建两个付费学生第1周的互动数据列表（engagement）。第1个包含通过项目的学生，第2个包含没通过项目的学生。\n",
    "\n",
    "# subway_project_lesson_keys = ['746169184', '3176718735']\n",
    "\n",
    "# passing_engagement =\n",
    "# non_passing_engagement =\n",
    "\n",
    "subway_project_lesson_keys = ['746169184', '3176718735']\n",
    "\n",
    "pass_subway_project = set()\n",
    "\n",
    "print \"paid_submissions:\"\n",
    "print paid_submissions[0]\n",
    "print '\\n'\n",
    "\n",
    "for submission in paid_submissions:\n",
    "    project = submission['lesson_key']\n",
    "    rating = submission['assigned_rating']    \n",
    "\n",
    "    if ((project in subway_project_lesson_keys) and\n",
    "            (rating == 'PASSED' or rating == 'DISTINCTION')):\n",
    "        pass_subway_project.add(submission['account_key'])\n",
    "\n",
    "len(pass_subway_project)\n",
    "\n",
    "passing_engagement = []\n",
    "non_passing_engagement = []\n",
    "\n",
    "print \"paid_engagement_in_first_week:\"\n",
    "print paid_engagement_in_first_week[0]\n",
    "print '\\n'\n",
    "\n",
    "for engagement_record in paid_engagement_in_first_week:\n",
    "    if engagement_record['account_key'] in pass_subway_project:\n",
    "        passing_engagement.append(engagement_record)\n",
    "    else:\n",
    "        non_passing_engagement.append(engagement_record)\n",
    "\n",
    "print \"Passing engagement:{}\".format(len(passing_engagement))\n",
    "print \"Non-Passing engagement:{}\".format(len(non_passing_engagement))"
   ]
  },
  {
   "cell_type": "markdown",
   "metadata": {},
   "source": [
    "## 22. 对比两组学生数据"
   ]
  },
  {
   "cell_type": "code",
   "execution_count": 186,
   "metadata": {},
   "outputs": [
    {
     "name": "stdout",
     "output_type": "stream",
     "text": [
      "=== total_minutes_visited ===\n",
      "non-passing students:\n",
      "(u'1140', 129.85920366667)\n",
      "Mean: 143.326474267\n",
      "Standard deviation: 269.538619011\n",
      "Minimum: 0.0\n",
      "Maximum: 1768.52274933\n",
      "\n",
      "\n",
      "passing students:\n",
      "Mean: 394.586046484\n",
      "Standard deviation: 448.499519327\n",
      "Minimum: 0.0\n",
      "Maximum: 3564.7332645\n",
      "\n",
      "\n",
      "=== lessons_completed ===\n",
      "non-passing students:\n",
      "Mean: 0.862068965517\n",
      "Standard deviation: 2.54915994183\n",
      "Minimum: 0\n",
      "Maximum: 27\n",
      "\n",
      "\n",
      "passing students:\n",
      "Mean: 2.05255023184\n",
      "Standard deviation: 3.14222705558\n",
      "Minimum: 0\n",
      "Maximum: 36\n",
      "\n",
      "\n",
      "=== has_visited ===\n",
      "non-passing students:\n",
      "Mean: 1.90517241379\n",
      "Standard deviation: 1.90573144136\n",
      "Minimum: 0\n",
      "Maximum: 7\n",
      "\n",
      "\n",
      "passing students:\n",
      "Mean: 3.38485316847\n",
      "Standard deviation: 2.25882147092\n",
      "Minimum: 0\n",
      "Maximum: 7\n",
      "\n",
      "\n"
     ]
    }
   ],
   "source": [
    "######################################\n",
    "#                 12                 #\n",
    "######################################\n",
    "\n",
    "## 计算你所感兴趣的数据指标，并分析通过项目和没有通过项目的两组学生有何异同。\n",
    "## 你可以从我们之前使用过的数据指标开始（教室的访问时间、课程完成数、访问天数）。\n",
    "\n",
    "passing_engagement_by_account = group_data(passing_engagement,\n",
    "                                           'account_key')\n",
    "non_passing_engagement_by_account = group_data(non_passing_engagement,\n",
    "                                               'account_key')\n",
    "\n",
    "# print \"passing_engagement_by_account:\"\n",
    "# print passing_engagement_by_account.items()[0]\n",
    "# print '\\n'\n",
    "\n",
    "# print \"non_passing_engagement_by_account:\"\n",
    "# print non_passing_engagement_by_account.items()[0]\n",
    "# print '\\n'\n",
    "\n",
    "print \"=== total_minutes_visited ===\"\n",
    "print 'non-passing students:'\n",
    "non_passing_minutes = sum_grouped_items(\n",
    "    non_passing_engagement_by_account,\n",
    "    'total_minutes_visited'\n",
    ")\n",
    "describe_data(non_passing_minutes.values())\n",
    "# print \"non_passing_minutes:\"\n",
    "# print non_passing_minutes.items()[0]\n",
    "# print '\\n'\n",
    "# Output: (u'1140', 129.85920366667)\n",
    "\n",
    "\n",
    "\n",
    "print 'passing students:'\n",
    "passing_minutes = sum_grouped_items(\n",
    "    passing_engagement_by_account,\n",
    "    'total_minutes_visited'\n",
    ")\n",
    "describe_data(passing_minutes.values())\n",
    "\n",
    "print '=== lessons_completed ==='\n",
    "print 'non-passing students:'\n",
    "non_passing_lessons = sum_grouped_items(\n",
    "    non_passing_engagement_by_account,\n",
    "    'lessons_completed'\n",
    ")\n",
    "describe_data(non_passing_lessons.values())\n",
    "\n",
    "print 'passing students:'\n",
    "passing_lessons = sum_grouped_items(\n",
    "    passing_engagement_by_account,\n",
    "    'lessons_completed'\n",
    ")\n",
    "describe_data(passing_lessons.values())\n",
    "\n",
    "print '=== has_visited ==='\n",
    "print 'non-passing students:'\n",
    "non_passing_visits = sum_grouped_items(\n",
    "    non_passing_engagement_by_account, \n",
    "    'has_visited'\n",
    ")\n",
    "describe_data(non_passing_visits.values())\n",
    "\n",
    "print 'passing students:'\n",
    "passing_visits = sum_grouped_items(\n",
    "    passing_engagement_by_account,\n",
    "    'has_visited'\n",
    ")\n",
    "describe_data(passing_visits.values())"
   ]
  },
  {
   "cell_type": "markdown",
   "metadata": {},
   "source": [
    "## 23. 制作直方图"
   ]
  },
  {
   "cell_type": "code",
   "execution_count": 198,
   "metadata": {},
   "outputs": [
    {
     "name": "stdout",
     "output_type": "stream",
     "text": [
      "Populating the interactive namespace from numpy and matplotlib\n",
      "total_minutes\n",
      "Mean: 306.708326753\n",
      "Standard deviation: 412.996933409\n",
      "Minimum: 0.0\n",
      "Maximum: 3564.7332645\n"
     ]
    },
    {
     "data": {
      "image/png": "[encoded data removed]",
      "text/plain": [
       "<matplotlib.figure.Figure at 0x10a2c47d0>"
      ]
     },
     "metadata": {},
     "output_type": "display_data"
    }
   ],
   "source": [
    "######################################\n",
    "#                 13                 #\n",
    "######################################\n",
    "\n",
    "## 针对通过项目和没有通过项目的两组学生，为我们之前研究的三个数据指标制作直方图。\n",
    "## 你也可以为其它你所检验的数据指标来制作直方图。\n",
    "# data = [1, 2, 1, 3, 3, 1, 4, 2]\n",
    "\n",
    "# %matplotlib inline\n",
    "# import matplotlib.pyplot as plt\n",
    "# plt.hist(data)\n",
    "\n",
    "%pylab inline\n",
    "\n",
    "import matplotlib.pyplot as plt\n",
    "import numpy as np\n",
    "\n",
    "# Summarize the given data\n",
    "def describe_data(data):\n",
    "    print 'Mean:', np.mean(data)\n",
    "    print 'Standard deviation:', np.std(data)\n",
    "    print 'Minimum:', np.min(data)\n",
    "    print 'Maximum:', np.max(data)\n",
    "    plt.hist(data)\n",
    "    \n",
    "print \"total_minutes\"\n",
    "total_minutes = total_minutes_by_account.values()\n",
    "describe_data(total_minutes)"
   ]
  },
  {
   "cell_type": "markdown",
   "metadata": {},
   "source": [
    "## 28. 改进图表及分享发现"
   ]
  },
  {
   "cell_type": "code",
   "execution_count": 206,
   "metadata": {},
   "outputs": [
    {
     "data": {
      "text/plain": [
       "Text(0.5,1,u'Distribution of classroom visits in the first week for students who pass the subway project')"
      ]
     },
     "execution_count": 206,
     "metadata": {},
     "output_type": "execute_result"
    },
    {
     "data": {
      "image/png": "[encoded data removed]",
      "text/plain": [
       "<matplotlib.figure.Figure at 0x107f48910>"
      ]
     },
     "metadata": {},
     "output_type": "display_data"
    }
   ],
   "source": [
    "######################################\n",
    "#                 14                 #\n",
    "######################################\n",
    "\n",
    "## 至少改进一幅之前的可视化图表，尝试导入 seaborn 库使你的图表看起来更美观。\n",
    "## 加入轴标签及表头，并修改一个或多个 hist() 内的变量。\n",
    "\n",
    "import seaborn as sns\n",
    "\n",
    "# plt.hist(non_passing_visits.values(), bins=8)\n",
    "# plt.xlabel('Number of days')\n",
    "# plt.title('Distribution of classroom visits in the first week ' + \n",
    "#           'for students who do not pass the subway project')\n",
    "\n",
    "plt.hist(passing_visits.values(), bins=8)\n",
    "plt.xlabel('Number of days')\n",
    "plt.title('Distribution of classroom visits in the first week ' + \n",
    "          'for students who pass the subway project')\n"
   ]
  },
  {
   "cell_type": "code",
   "execution_count": null,
   "metadata": {},
   "outputs": [],
   "source": []
  }
 ],
 "metadata": {
  "anaconda-cloud": {},
  "kernelspec": {
   "display_name": "Python 2",
   "language": "python",
   "name": "python2"
  },
  "language_info": {
   "codemirror_mode": {
    "name": "ipython",
    "version": 2
   },
   "file_extension": ".py",
   "mimetype": "text/x-python",
   "name": "python",
   "nbconvert_exporter": "python",
   "pygments_lexer": "ipython2",
   "version": "2.7.14"
  }
 },
 "nbformat": 4,
 "nbformat_minor": 1
}
